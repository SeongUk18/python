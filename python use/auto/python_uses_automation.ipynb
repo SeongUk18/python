{
 "cells": [
  {
   "cell_type": "code",
   "execution_count": 11,
   "id": "045fbb66",
   "metadata": {},
   "outputs": [
    {
     "name": "stdout",
     "output_type": "stream",
     "text": [
      "행복하세요 => Be happy\n",
      "I am happy => 나는 행복하다\n"
     ]
    }
   ],
   "source": [
    "#영어 한글로 번역\n",
    "import googletrans \n",
    "\n",
    "translator = googletrans.Translator() \n",
    "\n",
    "str1 = \"행복하세요\" \n",
    "result1 = translator.translate(str1, dest='en', src='auto') \n",
    "#dest:번역될 문자언어 sec:번역할 문자언어(auto 기본설정 생략 가능)\n",
    "print(f\"행복하세요 => {result1.text}\") \n",
    "\n",
    "str2 = \"I am happy\" \n",
    "result2 = translator.translate(str2, dest='ko', src='en') \n",
    "print(f\"I am happy => {result2.text}\")"
   ]
  },
  {
   "cell_type": "code",
   "execution_count": 12,
   "id": "8d463cb5",
   "metadata": {},
   "outputs": [
    {
     "name": "stdout",
     "output_type": "stream",
     "text": [
      "{'af': 'afrikaans', 'sq': 'albanian', 'am': 'amharic', 'ar': 'arabic', 'hy': 'armenian', 'az': 'azerbaijani', 'eu': 'basque', 'be': 'belarusian', 'bn': 'bengali', 'bs': 'bosnian', 'bg': 'bulgarian', 'ca': 'catalan', 'ceb': 'cebuano', 'ny': 'chichewa', 'zh-cn': 'chinese (simplified)', 'zh-tw': 'chinese (traditional)', 'co': 'corsican', 'hr': 'croatian', 'cs': 'czech', 'da': 'danish', 'nl': 'dutch', 'en': 'english', 'eo': 'esperanto', 'et': 'estonian', 'tl': 'filipino', 'fi': 'finnish', 'fr': 'french', 'fy': 'frisian', 'gl': 'galician', 'ka': 'georgian', 'de': 'german', 'el': 'greek', 'gu': 'gujarati', 'ht': 'haitian creole', 'ha': 'hausa', 'haw': 'hawaiian', 'iw': 'hebrew', 'he': 'hebrew', 'hi': 'hindi', 'hmn': 'hmong', 'hu': 'hungarian', 'is': 'icelandic', 'ig': 'igbo', 'id': 'indonesian', 'ga': 'irish', 'it': 'italian', 'ja': 'japanese', 'jw': 'javanese', 'kn': 'kannada', 'kk': 'kazakh', 'km': 'khmer', 'ko': 'korean', 'ku': 'kurdish (kurmanji)', 'ky': 'kyrgyz', 'lo': 'lao', 'la': 'latin', 'lv': 'latvian', 'lt': 'lithuanian', 'lb': 'luxembourgish', 'mk': 'macedonian', 'mg': 'malagasy', 'ms': 'malay', 'ml': 'malayalam', 'mt': 'maltese', 'mi': 'maori', 'mr': 'marathi', 'mn': 'mongolian', 'my': 'myanmar (burmese)', 'ne': 'nepali', 'no': 'norwegian', 'or': 'odia', 'ps': 'pashto', 'fa': 'persian', 'pl': 'polish', 'pt': 'portuguese', 'pa': 'punjabi', 'ro': 'romanian', 'ru': 'russian', 'sm': 'samoan', 'gd': 'scots gaelic', 'sr': 'serbian', 'st': 'sesotho', 'sn': 'shona', 'sd': 'sindhi', 'si': 'sinhala', 'sk': 'slovak', 'sl': 'slovenian', 'so': 'somali', 'es': 'spanish', 'su': 'sundanese', 'sw': 'swahili', 'sv': 'swedish', 'tg': 'tajik', 'ta': 'tamil', 'te': 'telugu', 'th': 'thai', 'tr': 'turkish', 'uk': 'ukrainian', 'ur': 'urdu', 'ug': 'uyghur', 'uz': 'uzbek', 'vi': 'vietnamese', 'cy': 'welsh', 'xh': 'xhosa', 'yi': 'yiddish', 'yo': 'yoruba', 'zu': 'zulu'}\n"
     ]
    }
   ],
   "source": [
    "import googletrans\n",
    "\n",
    "lang=googletrans.LANGUAGES\n",
    "print(lang)"
   ]
  },
  {
   "cell_type": "code",
   "execution_count": 15,
   "id": "fdca76ba",
   "metadata": {},
   "outputs": [
    {
     "name": "stdout",
     "output_type": "stream",
     "text": [
      "작은 연못에 큰 물고기\n",
      "좋은 약은 쓴 맛입니다\n",
      "고통이 없으면 얻는 것도 없다\n"
     ]
    }
   ],
   "source": [
    "from os import linesep\n",
    "import googletrans\n",
    "\n",
    "translator = googletrans.Translator()\n",
    "\n",
    "read_file_path=\"영어파일.txt\"\n",
    "\n",
    "with open(read_file_path,'r') as f:\n",
    "    readLines=f.readlines()\n",
    "    \n",
    "for lines in readLines:\n",
    "    result1 = translator.translate(lines,dest='ko')\n",
    "    print(result1.text)"
   ]
  },
  {
   "cell_type": "code",
   "execution_count": 14,
   "id": "a6847cff",
   "metadata": {},
   "outputs": [
    {
     "name": "stdout",
     "output_type": "stream",
     "text": [
      "작은 연못에 큰 물고기\n",
      "좋은 약은 쓴 맛입니다\n",
      "고통이 없으면 얻는 것도 없다\n"
     ]
    }
   ],
   "source": [
    "from os import linesep\n",
    "import googletrans\n",
    "\n",
    "translator = googletrans.Translator() \n",
    "\n",
    "read_file_path = \"영어파일.txt\"\n",
    "write_file_path = \"한글파일.txt\"\n",
    "\n",
    "with open(read_file_path, 'r') as f : \n",
    "    readLines = f.readlines()\n",
    "\n",
    "for lines in readLines:\n",
    "    result1 = translator.translate(lines, dest='ko') \n",
    "    print(result1.text)\n",
    "    with open(write_file_path,'a', encoding='UTF8') as f:\n",
    "        f.write(result1.text + '\\n')"
   ]
  },
  {
   "cell_type": "code",
   "execution_count": 22,
   "id": "9676a1ca",
   "metadata": {},
   "outputs": [
    {
     "name": "stdout",
     "output_type": "stream",
     "text": [
      "Point(x=366, y=233)\n",
      "Point(x=492, y=233)\n",
      "Point(x=847, y=168)\n",
      "Point(x=1029, y=139)\n",
      "Point(x=1060, y=121)\n",
      "Point(x=1093, y=98)\n",
      "Point(x=1107, y=82)\n",
      "Point(x=1114, y=79)\n",
      "Point(x=1118, y=74)\n",
      "Point(x=1119, y=73)\n",
      "Point(x=1125, y=66)\n",
      "Point(x=1125, y=65)\n",
      "Point(x=1125, y=65)\n",
      "Point(x=1125, y=65)\n",
      "Point(x=1125, y=65)\n",
      "Point(x=1125, y=65)\n",
      "Point(x=1125, y=65)\n",
      "Point(x=1125, y=65)\n",
      "Point(x=1125, y=65)\n",
      "Point(x=1125, y=65)\n",
      "Point(x=1125, y=65)\n",
      "Point(x=1125, y=65)\n",
      "Point(x=1125, y=65)\n",
      "Point(x=1125, y=65)\n",
      "Point(x=1125, y=65)\n",
      "Point(x=1125, y=65)\n",
      "Point(x=1125, y=65)\n",
      "Point(x=1125, y=65)\n",
      "Point(x=1125, y=65)\n",
      "Point(x=829, y=139)\n",
      "Point(x=450, y=205)\n",
      "Point(x=432, y=211)\n",
      "Point(x=405, y=228)\n",
      "Point(x=407, y=230)\n",
      "Point(x=409, y=230)\n",
      "Point(x=408, y=227)\n",
      "Point(x=408, y=227)\n",
      "Point(x=408, y=227)\n",
      "Point(x=408, y=227)\n",
      "Point(x=408, y=227)\n",
      "Point(x=408, y=227)\n",
      "Point(x=467, y=231)\n",
      "Point(x=705, y=269)\n",
      "Point(x=719, y=273)\n",
      "Point(x=783, y=232)\n",
      "Point(x=795, y=202)\n",
      "Point(x=799, y=189)\n",
      "Point(x=801, y=180)\n",
      "Point(x=803, y=180)\n",
      "Point(x=803, y=180)\n",
      "Point(x=804, y=180)\n",
      "Point(x=500, y=206)\n",
      "Point(x=421, y=209)\n",
      "Point(x=420, y=219)\n",
      "Point(x=418, y=221)\n",
      "Point(x=403, y=221)\n",
      "Point(x=399, y=221)\n",
      "Point(x=398, y=220)\n"
     ]
    },
    {
     "ename": "KeyboardInterrupt",
     "evalue": "",
     "output_type": "error",
     "traceback": [
      "\u001b[1;31m---------------------------------------------------------------------------\u001b[0m",
      "\u001b[1;31mKeyboardInterrupt\u001b[0m                         Traceback (most recent call last)",
      "\u001b[1;32m~\\AppData\\Local\\Temp/ipykernel_6536/1248520007.py\u001b[0m in \u001b[0;36m<module>\u001b[1;34m\u001b[0m\n\u001b[0;32m      5\u001b[0m \u001b[1;32mwhile\u001b[0m \u001b[1;32mTrue\u001b[0m\u001b[1;33m:\u001b[0m\u001b[1;33m\u001b[0m\u001b[1;33m\u001b[0m\u001b[0m\n\u001b[0;32m      6\u001b[0m     \u001b[0mprint\u001b[0m\u001b[1;33m(\u001b[0m\u001b[0mpyautogui\u001b[0m\u001b[1;33m.\u001b[0m\u001b[0mposition\u001b[0m\u001b[1;33m(\u001b[0m\u001b[1;33m)\u001b[0m\u001b[1;33m)\u001b[0m\u001b[1;33m\u001b[0m\u001b[1;33m\u001b[0m\u001b[0m\n\u001b[1;32m----> 7\u001b[1;33m     \u001b[0mtime\u001b[0m\u001b[1;33m.\u001b[0m\u001b[0msleep\u001b[0m\u001b[1;33m(\u001b[0m\u001b[1;36m0.1\u001b[0m\u001b[1;33m)\u001b[0m\u001b[1;33m\u001b[0m\u001b[1;33m\u001b[0m\u001b[0m\n\u001b[0m",
      "\u001b[1;31mKeyboardInterrupt\u001b[0m: "
     ]
    }
   ],
   "source": [
    "#오토마우스를 활용한 웹페이지 자동화\n",
    "import pyautogui\n",
    "import time\n",
    "\n",
    "while True:\n",
    "    print(pyautogui.position())\n",
    "    time.sleep(0.1)"
   ]
  },
  {
   "cell_type": "code",
   "execution_count": 18,
   "id": "1371951a",
   "metadata": {},
   "outputs": [],
   "source": [
    "import pyautogui\n",
    "import time\n",
    "import pyperclip\n",
    "\n",
    "pyautogui.moveTo(1304,239,0.2)\n",
    "pyautogui.click()\n",
    "time.sleep(0.5)\n",
    "\n",
    "pyperclip.copy(\"서울 날씨\") \n",
    "pyautogui.hotkey(\"ctrl\", \"v\")\n",
    "time.sleep(0.5)\n",
    "\n",
    "pyautogui.write([\"enter\"]) \n",
    "time.sleep(1)"
   ]
  },
  {
   "cell_type": "code",
   "execution_count": 21,
   "id": "ba0f4be9",
   "metadata": {},
   "outputs": [
    {
     "data": {
      "image/png": "[encoded data removed]",
      "text/plain": [
       "<PIL.Image.Image image mode=RGB size=645x653 at 0x19663A2B580>"
      ]
     },
     "execution_count": 21,
     "metadata": {},
     "output_type": "execute_result"
    }
   ],
   "source": [
    "import pyautogui\n",
    "import time\n",
    "import pyperclip\n",
    "\n",
    "pyautogui.moveTo(1304,239,0.2)\n",
    "pyautogui.click()\n",
    "time.sleep(0.5)\n",
    "\n",
    "pyperclip.copy(\"서울 날씨\") \n",
    "pyautogui.hotkey(\"ctrl\", \"v\")\n",
    "time.sleep(0.5)\n",
    "\n",
    "pyautogui.write([\"enter\"]) \n",
    "time.sleep(1)\n",
    "\n",
    "start_x = 996\n",
    "start_y = 257\n",
    "end_x = 1641\n",
    "end_y = 910\n",
    "\n",
    "pyautogui.screenshot('서울날씨.png', region=(start_x, start_y, end_x-start_x, end_y-start_y))\n"
   ]
  },
  {
   "cell_type": "code",
   "execution_count": 24,
   "id": "0961a75d",
   "metadata": {},
   "outputs": [],
   "source": [
    "import pyautogui\n",
    "import time\n",
    "import pyperclip\n",
    "\n",
    "날씨 = [\"서울 날씨\",\"시흥 날씨\",\"청주 날씨\",\"부산 날씨\",\"강원도 날씨\"]\n",
    "\n",
    "addr_x = 1125\n",
    "addr_y = 65\n",
    "start_x = 996\n",
    "start_y = 257\n",
    "end_x = 1641\n",
    "end_y = 910\n",
    "\n",
    "for 지역날씨 in 날씨:\n",
    "    pyautogui.moveTo(addr_x,addr_y,1)\n",
    "    time.sleep(0.2)\n",
    "    pyautogui.click()\n",
    "    time.sleep(0.2)\n",
    "    pyautogui.write(\"www.naver.com\",interval=0.1)\n",
    "    pyautogui.write([\"enter\"])\n",
    "    time.sleep(1)\n",
    "\n",
    "    pyperclip.copy(지역날씨) \n",
    "    pyautogui.hotkey(\"ctrl\", \"v\")\n",
    "    time.sleep(0.5)\n",
    "    pyautogui.write([\"enter\"])\n",
    "    time.sleep(1)\n",
    "    저장경로 = 지역날씨 + '.png'\n",
    "    pyautogui.screenshot(저장경로, region=(start_x, start_y, end_x-start_x, end_y-start_y))\n"
   ]
  },
  {
   "cell_type": "code",
   "execution_count": null,
   "id": "ed5da97c",
   "metadata": {},
   "outputs": [],
   "source": []
  }
 ],
 "metadata": {
  "kernelspec": {
   "display_name": "Python 3 (ipykernel)",
   "language": "python",
   "name": "python3"
  },
  "language_info": {
   "codemirror_mode": {
    "name": "ipython",
    "version": 3
   },
   "file_extension": ".py",
   "mimetype": "text/x-python",
   "name": "python",
   "nbconvert_exporter": "python",
   "pygments_lexer": "ipython3",
   "version": "3.9.7"
  }
 },
 "nbformat": 4,
 "nbformat_minor": 5
}
