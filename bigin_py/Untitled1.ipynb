{
 "cells": [
  {
   "cell_type": "code",
   "execution_count": 5,
   "id": "ebbb9eb6",
   "metadata": {},
   "outputs": [],
   "source": [
    "string =\" 1,2 , 3,4,5\""
   ]
  },
  {
   "cell_type": "code",
   "execution_count": 6,
   "id": "7f97ca42",
   "metadata": {},
   "outputs": [
    {
     "data": {
      "text/plain": [
       "[' 1', '2 ', ' 3', '4', '5']"
      ]
     },
     "execution_count": 6,
     "metadata": {},
     "output_type": "execute_result"
    }
   ],
   "source": [
    "string.replace(' ','')\n",
    "string.split(',')"
   ]
  },
  {
   "cell_type": "code",
   "execution_count": 7,
   "id": "66393845",
   "metadata": {},
   "outputs": [
    {
     "data": {
      "text/plain": [
       "[' 1', '2 ', ' 3', '4', '5']"
      ]
     },
     "execution_count": 7,
     "metadata": {},
     "output_type": "execute_result"
    }
   ],
   "source": [
    "string.split(',')"
   ]
  },
  {
   "cell_type": "code",
   "execution_count": 54,
   "id": "f21da29d",
   "metadata": {},
   "outputs": [
    {
     "name": "stdout",
     "output_type": "stream",
     "text": [
      "[3, 5, 1]\n"
     ]
    }
   ],
   "source": [
    "a=[1,5,3]\n",
    "a.reverse()\n",
    "a[::-1]\n",
    "print(a)"
   ]
  },
  {
   "cell_type": "code",
   "execution_count": 2,
   "id": "0020ce6b",
   "metadata": {},
   "outputs": [],
   "source": [
    "string =\" 1,2 , 3,4,5\""
   ]
  },
  {
   "cell_type": "code",
   "execution_count": 3,
   "id": "bc2ac931",
   "metadata": {},
   "outputs": [],
   "source": [
    "string_list= string.split(',')"
   ]
  },
  {
   "cell_type": "code",
   "execution_count": 4,
   "id": "05aa932b",
   "metadata": {},
   "outputs": [
    {
     "name": "stdout",
     "output_type": "stream",
     "text": [
      "[' 1', '2 ', ' 3', '4', '5']\n"
     ]
    }
   ],
   "source": [
    "i=0\n",
    "while i<len(string_list):\n",
    "    string_list[i].strip\n",
    "    i = i+1\n",
    "print(string_list)"
   ]
  },
  {
   "cell_type": "code",
   "execution_count": null,
   "id": "b551b6d6",
   "metadata": {},
   "outputs": [],
   "source": []
  }
 ],
 "metadata": {
  "kernelspec": {
   "display_name": "Python 3 (ipykernel)",
   "language": "python",
   "name": "python3"
  },
  "language_info": {
   "codemirror_mode": {
    "name": "ipython",
    "version": 3
   },
   "file_extension": ".py",
   "mimetype": "text/x-python",
   "name": "python",
   "nbconvert_exporter": "python",
   "pygments_lexer": "ipython3",
   "version": "3.9.7"
  }
 },
 "nbformat": 4,
 "nbformat_minor": 5
}
